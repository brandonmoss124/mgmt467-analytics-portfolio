{
  "cells": [
    {
      "cell_type": "markdown",
      "metadata": {
        "id": "view-in-github",
        "colab_type": "text"
      },
      "source": [
        "<a href=\"https://colab.research.google.com/github/brandonmoss124/mgmt467-analytics-portfolio/blob/main/lab4_regression_bqml_completed_confident_nexus_475419_k9.ipynb\" target=\"_parent\"><img src=\"https://colab.research.google.com/assets/colab-badge.svg\" alt=\"Open In Colab\"/></a>"
      ]
    },
    {
      "cell_type": "markdown",
      "id": "69c65555",
      "metadata": {
        "id": "69c65555"
      },
      "source": [
        "\n",
        "# Lab 4 — Predicting Flight Arrival Delays (Regression with **BigQuery ML**)\n",
        "\n",
        "**Objective:** Train, evaluate, and explain a **linear regression** model in **BigQuery ML** to predict `arr_delay` (arrival delay in minutes).  \n",
        "**Business goal:** Support airline resource planning by estimating arrival delays.\n",
        "\n",
        "> **Submission tips:** This notebook already includes completed prompts, queries, and explanations. You only need to set your **PROJECT_ID** (and optionally **DATASET_ID**) and then run all cells.\n"
      ]
    },
    {
      "cell_type": "markdown",
      "id": "8cc94e79",
      "metadata": {
        "id": "8cc94e79"
      },
      "source": [
        "## 1) Setup"
      ]
    },
    {
      "cell_type": "code",
      "execution_count": null,
      "id": "629ede67",
      "metadata": {
        "id": "629ede67"
      },
      "outputs": [],
      "source": [
        "\n",
        "# If running in Colab, authenticate:\n",
        "# from google.colab import auth\n",
        "# auth.authenticate_user()\n",
        "\n",
        "!pip -q install -U google-cloud-bigquery pandas-gbq google-cloud-bigquery-storage\n",
        "\n",
        "from google.cloud import bigquery\n",
        "import pandas as pd\n",
        "\n",
        "print(\"BigQuery libraries installed.\")\n"
      ]
    },
    {
      "cell_type": "markdown",
      "id": "fe4e2f8c",
      "metadata": {
        "id": "fe4e2f8c"
      },
      "source": [
        "\n",
        "## 2) Configuration\n",
        "\n",
        "- Set your **GCP project ID** and an existing **BigQuery dataset** where the model will be stored.  \n",
        "- If the dataset doesn't exist, create it in the BigQuery UI before running the model cell.\n"
      ]
    },
    {
      "cell_type": "code",
      "execution_count": null,
      "id": "7c82121c",
      "metadata": {
        "id": "7c82121c"
      },
      "outputs": [],
      "source": [
        "\n",
        "PROJECT_ID = \"confident-nexus-475419-k9\"\n",
        "DATASET_ID = \"superstore_data\"\n",
        "LOCATION   = \"US\"\n",
        "MODEL_ID   = \"flight_delay_predictor\"\n",
        "\n",
        "MODEL_FQN = f\"`{PROJECT_ID}.{DATASET_ID}.{MODEL_ID}`\"\n",
        "\n",
        "client = bigquery.Client(project=PROJECT_ID, location=LOCATION)\n",
        "\n",
        "print(\"Project:\", PROJECT_ID)\n",
        "print(\"Dataset:\", DATASET_ID)\n",
        "print(\"Model:\", MODEL_FQN)\n"
      ]
    },
    {
      "cell_type": "markdown",
      "id": "786d2283",
      "metadata": {
        "id": "786d2283"
      },
      "source": [
        "## 3) Feature Brainstorming (Gemini prompt + answer)"
      ]
    },
    {
      "cell_type": "code",
      "execution_count": null,
      "id": "37706ea4",
      "metadata": {
        "id": "37706ea4"
      },
      "outputs": [],
      "source": [
        "\n",
        "prompt = \"\"\"\n",
        "# TASK: Brainstorm features for a machine learning model.\n",
        "# CONTEXT: I'm using the BigQuery public flights dataset. I want to predict the 'arr_delay' (arrival delay in minutes), which is a numerical value.\n",
        "# GOAL: List 5 columns from the dataset that you think would be the best predictors for 'arr_delay' and briefly explain why for each one.\n",
        "\"\"\"\n",
        "print(prompt)\n"
      ]
    },
    {
      "cell_type": "markdown",
      "id": "62a96471",
      "metadata": {
        "id": "62a96471"
      },
      "source": [
        "\n",
        "**Filled answer (documented rationale):**\n",
        "\n",
        "| Feature     | Why it may help |\n",
        "|-------------|------------------|\n",
        "| `dep_delay` | Departure delays usually propagate to arrival delays. |\n",
        "| `distance`  | Longer flights can recover or compound delays depending on routing and buffers. |\n",
        "| `carrier`   | Airlines differ in operations and on‑time performance. |\n",
        "| `origin`    | Airport congestion and local weather influence delays. |\n",
        "| `month`     | Seasonality (storms, holidays) affects delay risk. |\n"
      ]
    },
    {
      "cell_type": "markdown",
      "id": "e3b3b4d3",
      "metadata": {
        "id": "e3b3b4d3"
      },
      "source": [
        "## 4) Train a Regression Model (BQML)"
      ]
    },
    {
      "cell_type": "markdown",
      "id": "fab8d4ed",
      "metadata": {
        "id": "fab8d4ed"
      },
      "source": [
        "\n",
        "We train a **linear regression** model with BQML.  \n",
        "- **Label:** `arr_delay`  \n",
        "- **Features:** `dep_delay, distance, carrier, origin, month`  \n",
        "- **Public source table:** `bigquery-public-data.airline_ontime_data.flights`  \n",
        "- We filter out `NULL` labels and keep a **LIMIT** to control cost.\n"
      ]
    },
    {
      "cell_type": "code",
      "execution_count": null,
      "id": "018a03f4",
      "metadata": {
        "id": "018a03f4"
      },
      "outputs": [],
      "source": [
        "\n",
        "# OPTIONS clause (completed)\n",
        "options_prompt = \"\"\"\n",
        "# TASK: Generate the OPTIONS clause for a BigQuery ML linear regression model.\n",
        "# GOAL: I need to specify the model_type, the input_label_cols, and enable the model to be explainable.\n",
        "\"\"\"\n",
        "print(options_prompt)\n",
        "\n",
        "create_model_sql = f\"\"\"\n",
        "CREATE OR REPLACE MODEL {MODEL_FQN}\n",
        "OPTIONS(\n",
        "  model_type='LINEAR_REG',\n",
        "  input_label_cols=['arr_delay'],\n",
        "  enable_global_explain=TRUE\n",
        ") AS\n",
        "SELECT\n",
        "  arr_delay,\n",
        "  dep_delay,\n",
        "  distance,\n",
        "  carrier,\n",
        "  origin,\n",
        "  month\n",
        "FROM\n",
        "  `bigquery-public-data.airline_ontime_data.flights`\n",
        "WHERE\n",
        "  arr_delay IS NOT NULL\n",
        "  AND dep_delay IS NOT NULL\n",
        "LIMIT 200000\n",
        "\"\"\"\n",
        "print(create_model_sql)\n"
      ]
    },
    {
      "cell_type": "code",
      "execution_count": null,
      "id": "fcad4908",
      "metadata": {
        "id": "fcad4908"
      },
      "outputs": [],
      "source": [
        "\n",
        "# Run the CREATE MODEL job\n",
        "job = client.query(create_model_sql)\n",
        "job.result()\n",
        "print(\"Model created successfully. Job ID:\", job.job_id)\n"
      ]
    },
    {
      "cell_type": "markdown",
      "id": "d0a27e89",
      "metadata": {
        "id": "d0a27e89"
      },
      "source": [
        "## 5) Evaluate Model Performance (ML.EVALUATE)"
      ]
    },
    {
      "cell_type": "code",
      "execution_count": null,
      "id": "5406e5b5",
      "metadata": {
        "id": "5406e5b5"
      },
      "outputs": [],
      "source": [
        "\n",
        "evaluate_sql = f\"\"\"\n",
        "SELECT *\n",
        "FROM ML.EVALUATE(MODEL {MODEL_FQN})\n",
        "\"\"\"\n",
        "print(evaluate_sql)\n",
        "\n",
        "eval_job = client.query(evaluate_sql)\n",
        "eval_df = eval_job.result().to_dataframe()\n",
        "eval_df\n"
      ]
    },
    {
      "cell_type": "markdown",
      "id": "2491ca0b",
      "metadata": {
        "id": "2491ca0b"
      },
      "source": [
        "## 6) Explain a Key Metric (Filled prompt + answer)"
      ]
    },
    {
      "cell_type": "code",
      "execution_count": null,
      "id": "70be18c1",
      "metadata": {
        "id": "70be18c1"
      },
      "outputs": [],
      "source": [
        "\n",
        "prompt = \"\"\"\n",
        "# TASK: Explain a technical metric to a non-technical audience.\n",
        "# CONTEXT: My machine learning model has a 'mean_absolute_error' of 14.5.\n",
        "# GOAL: Explain what this means in the business context of predicting flight delays, which are measured in minutes. Is an error of 14.5 good or bad in this context?\n",
        "\"\"\"\n",
        "print(prompt)\n"
      ]
    },
    {
      "cell_type": "markdown",
      "id": "d6eedc70",
      "metadata": {
        "id": "d6eedc70"
      },
      "source": [
        "\n",
        "**Answer (example explanation):**  \n",
        "A **mean absolute error (MAE) of 14.5** means that, on average, the model’s predictions are off by about **14–15 minutes**. For high-level planning (e.g., staffing or gate ranges), this can be **useful**. For minute‑by‑minute operations (tight turnarounds, crew changes), it may still be **too high**, so we’d either seek more features (weather, taxi‑out time) or consider a different model to reduce error.\n"
      ]
    },
    {
      "cell_type": "markdown",
      "id": "09464c55",
      "metadata": {
        "id": "09464c55"
      },
      "source": [
        "## 7) Challenge — Explain a Prediction (Prompt + ML.EXPLAIN_PREDICT)"
      ]
    },
    {
      "cell_type": "code",
      "execution_count": null,
      "id": "853428c6",
      "metadata": {
        "id": "853428c6"
      },
      "outputs": [],
      "source": [
        "\n",
        "challenge_prompt = \"\"\"\n",
        "# TASK: Help me write an ML.EXPLAIN_PREDICT query in BigQuery ML.\n",
        "# CONTEXT: I trained a linear regression model called `flight_delay_predictor` in dataset `${DATASET_ID}`.\n",
        "# GOAL: Explain a prediction for a hypothetical 2000-mile flight on carrier 'AA' with a 30-minute departure delay.\n",
        "# OUTPUT: Provide the full SQL query that uses ML.EXPLAIN_PREDICT to show feature contributions for this prediction.\n",
        "\"\"\"\n",
        "print(challenge_prompt)\n"
      ]
    },
    {
      "cell_type": "code",
      "execution_count": null,
      "id": "42448fef",
      "metadata": {
        "id": "42448fef"
      },
      "outputs": [],
      "source": [
        "\n",
        "# Example EXPLAIN_PREDICT query (modify origin/month if you trained with additional features)\n",
        "explain_predict_sql = f\"\"\"\n",
        "SELECT *\n",
        "FROM ML.EXPLAIN_PREDICT(\n",
        "  MODEL {MODEL_FQN},\n",
        "  (\n",
        "    SELECT\n",
        "      30   AS dep_delay,\n",
        "      2000 AS distance,\n",
        "      'AA' AS carrier,\n",
        "      'JFK' AS origin,\n",
        "      7    AS month\n",
        "  )\n",
        ")\n",
        "\"\"\"\n",
        "print(explain_predict_sql)\n",
        "\n",
        "explain_job = client.query(explain_predict_sql)\n",
        "explain_df = explain_job.result().to_dataframe()\n",
        "explain_df\n"
      ]
    },
    {
      "cell_type": "markdown",
      "id": "4a0e1573",
      "metadata": {
        "id": "4a0e1573"
      },
      "source": [
        "\n",
        "### Interpreting the explanation\n",
        "Look at the contribution/weight columns per feature. Positive values **increase** the predicted arrival delay; negative values **decrease** it. For the example above, you’ll typically see:\n",
        "- **dep_delay** contributing the most (late departures usually land late),\n",
        "- **carrier** adding/removing minutes depending on historical performance,\n",
        "- **origin** and **month** nudging the prediction based on congestion/seasonality,\n",
        "- **distance** with a smaller effect (some recovery time on longer routes).\n"
      ]
    },
    {
      "cell_type": "markdown",
      "id": "8cc67a2b",
      "metadata": {
        "id": "8cc67a2b"
      },
      "source": [
        "\n",
        "## 8) Checklist & Submission\n",
        "\n",
        "- ✅ Feature brainstorming prompt + filled rationale  \n",
        "- ✅ `CREATE MODEL` SQL with selected features (and cost control `LIMIT`)  \n",
        "- ✅ `ML.EVALUATE` results table  \n",
        "- ✅ MAE explanation for a non‑technical audience  \n",
        "- ✅ Challenge prompt + `ML.EXPLAIN_PREDICT` query and interpretation  \n",
        "\n",
        "**Before you submit:**\n",
        "1. Set `PROJECT_ID` (and `DATASET_ID` if needed).\n",
        "2. Run all cells.\n",
        "3. Push this notebook to your GitHub repository.\n",
        "4. Submit the GitHub link in Brightspace.\n"
      ]
    }
  ],
  "metadata": {
    "colab": {
      "provenance": [],
      "include_colab_link": true
    },
    "kernelspec": {
      "display_name": "Python 3",
      "language": "python",
      "name": "python3"
    },
    "language_info": {
      "name": "python",
      "version": "3.x"
    }
  },
  "nbformat": 4,
  "nbformat_minor": 5
}