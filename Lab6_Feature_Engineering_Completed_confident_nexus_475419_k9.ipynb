{
  "cells": [
    {
      "cell_type": "markdown",
      "metadata": {
        "id": "view-in-github",
        "colab_type": "text"
      },
      "source": [
        "<a href=\"https://colab.research.google.com/github/brandonmoss124/mgmt467-analytics-portfolio/blob/main/Lab6_Feature_Engineering_Completed_confident_nexus_475419_k9.ipynb\" target=\"_parent\"><img src=\"https://colab.research.google.com/assets/colab-badge.svg\" alt=\"Open In Colab\"/></a>"
      ]
    },
    {
      "cell_type": "markdown",
      "id": "03d7ac22",
      "metadata": {
        "id": "03d7ac22"
      },
      "source": [
        "\n",
        "# Lab 6 — Improving Models with Feature Engineering (**BQML TRANSFORM**)\n",
        "\n",
        "**Objective:** Improve your **Lab 5** classifier by creating new, more informative features using **BQML's TRANSFORM** clause. Compare performance to your baseline.\n"
      ]
    },
    {
      "cell_type": "markdown",
      "id": "c631a69e",
      "metadata": {
        "id": "c631a69e"
      },
      "source": [
        "## 1) Setup"
      ]
    },
    {
      "cell_type": "code",
      "execution_count": null,
      "id": "a233d325",
      "metadata": {
        "id": "a233d325"
      },
      "outputs": [],
      "source": [
        "\n",
        "# from google.colab import auth\n",
        "# auth.authenticate_user()\n",
        "\n",
        "!pip -q install -U google-cloud-bigquery pandas-gbq google-cloud-bigquery-storage\n",
        "\n",
        "from google.cloud import bigquery\n",
        "import pandas as pd\n",
        "\n",
        "print(\"BigQuery libraries installed.\")\n"
      ]
    },
    {
      "cell_type": "markdown",
      "id": "992eba21",
      "metadata": {
        "id": "992eba21"
      },
      "source": [
        "## 2) Configuration"
      ]
    },
    {
      "cell_type": "code",
      "execution_count": null,
      "id": "ab0d7473",
      "metadata": {
        "id": "ab0d7473"
      },
      "outputs": [],
      "source": [
        "\n",
        "# >>> EDIT THESE <<<\n",
        "PROJECT_ID = \"confident-nexus-475419-k9\"     # <-- Replace\n",
        "DATASET_ID = \"superstore_data\"     # Use the same dataset as Lab 5 (or update as needed)\n",
        "LOCATION   = \"US\"\n",
        "BASE_MODEL_ID = \"flight_diversion_classifier\"        # From Lab 5\n",
        "NEW_MODEL_ID  = \"flight_diversion_classifier_fe\"     # New model with TRANSFORM\n",
        "\n",
        "BASE_MODEL_FQN = f\"`{PROJECT_ID}.{DATASET_ID}.{BASE_MODEL_ID}`\"\n",
        "NEW_MODEL_FQN  = f\"`{PROJECT_ID}.{DATASET_ID}.{NEW_MODEL_ID}`\"\n",
        "\n",
        "client = bigquery.Client(project=PROJECT_ID, location=LOCATION)\n",
        "\n",
        "print(\"Base model:\", BASE_MODEL_FQN)\n",
        "print(\"New model:\", NEW_MODEL_FQN)\n"
      ]
    },
    {
      "cell_type": "markdown",
      "id": "0d72afab",
      "metadata": {
        "id": "0d72afab"
      },
      "source": [
        "## 3) Establish a Baseline (Re-run Evaluation of Lab 5 Model)"
      ]
    },
    {
      "cell_type": "code",
      "execution_count": null,
      "id": "caa4fddf",
      "metadata": {
        "id": "caa4fddf"
      },
      "outputs": [],
      "source": [
        "\n",
        "baseline_eval_sql = f\"\"\"\n",
        "SELECT *\n",
        "FROM ML.EVALUATE(MODEL {BASE_MODEL_FQN})\n",
        "\"\"\"\n",
        "print(baseline_eval_sql)\n",
        "baseline_eval_df = client.query(baseline_eval_sql).result().to_dataframe()\n",
        "baseline_eval_df\n"
      ]
    },
    {
      "cell_type": "markdown",
      "id": "0b6f8661",
      "metadata": {
        "id": "0b6f8661"
      },
      "source": [
        "\n",
        "**Record baseline metrics (precision, recall)** from the table above — we’ll compare to the engineered model.\n"
      ]
    },
    {
      "cell_type": "markdown",
      "id": "ebffb8c3",
      "metadata": {
        "id": "ebffb8c3"
      },
      "source": [
        "## 4) Brainstorm New Features (Gemini prompt)"
      ]
    },
    {
      "cell_type": "code",
      "execution_count": null,
      "id": "6fcefac3",
      "metadata": {
        "id": "6fcefac3"
      },
      "outputs": [],
      "source": [
        "\n",
        "prompt = \"\"\"\n",
        "# TASK: Brainstorm new features for an ML model, a process called feature engineering.\n",
        "# CONTEXT: I want to improve my flight diversion prediction model. The raw data has a column called 'origin' (e.g., 'JFK', 'ORD') and another called 'carrier' (e.g., 'AA', 'UA').\n",
        "# GOAL: Suggest one new feature I could create by combining 'origin' and 'carrier' that might be more predictive than either column alone. Explain why this new feature could be more powerful.\n",
        "\"\"\"\n",
        "print(prompt)\n"
      ]
    },
    {
      "cell_type": "markdown",
      "id": "e49a9905",
      "metadata": {
        "id": "e49a9905"
      },
      "source": [
        "\n",
        "**Filled idea:** Create a categorical **origin_carrier** feature (e.g., `JFK-AA`) to capture **interaction effects**: some carriers perform differently at specific airports (slots, gates, congestion patterns).\n"
      ]
    },
    {
      "cell_type": "markdown",
      "id": "6a5985d8",
      "metadata": {
        "id": "6a5985d8"
      },
      "source": [
        "## 5) Implement Feature Engineering with TRANSFORM"
      ]
    },
    {
      "cell_type": "code",
      "execution_count": null,
      "id": "92c3fad4",
      "metadata": {
        "id": "92c3fad4"
      },
      "outputs": [],
      "source": [
        "\n",
        "prompt = \"\"\"\n",
        "# TASK: Generate the TRANSFORM clause for a BQML CREATE MODEL statement.\n",
        "# GOAL: I need to pass through my original features ('dep_delay', 'distance') and create two new features:\n",
        "# 1. 'route': a new feature created by combining the 'origin' and 'destination' columns using the CONCAT() function.\n",
        "# 2. 'day_of_week': a new feature created by extracting the day of the week from the 'fl_date' column using the EXTRACT() function.\n",
        "\"\"\"\n",
        "print(prompt)\n"
      ]
    },
    {
      "cell_type": "code",
      "execution_count": null,
      "id": "566217e9",
      "metadata": {
        "id": "566217e9"
      },
      "outputs": [],
      "source": [
        "\n",
        "create_fe_model_sql = f\"\"\"\n",
        "CREATE OR REPLACE MODEL {NEW_MODEL_FQN}\n",
        "OPTIONS(\n",
        "  model_type='LOGISTIC_REG',\n",
        "  input_label_cols=['diverted_label'],\n",
        "  enable_global_explain=TRUE,\n",
        "  TRANSFORM = (\n",
        "    SELECT\n",
        "      CAST(diverted AS BOOL) AS diverted_label,\n",
        "      -- pass-through\n",
        "      dep_delay,\n",
        "      distance,\n",
        "      carrier,\n",
        "      origin,\n",
        "      dest,\n",
        "      -- engineered\n",
        "      CONCAT(origin, '-', dest) AS route,\n",
        "      EXTRACT(DAYOFWEEK FROM fl_date) AS day_of_week\n",
        "    FROM `bigquery-public-data.airline_ontime_data.flights`\n",
        "    WHERE diverted IS NOT NULL\n",
        "      AND distance IS NOT NULL\n",
        "      AND dep_delay IS NOT NULL\n",
        "  )\n",
        ")\n",
        "\"\"\"\n",
        "print(create_fe_model_sql)\n",
        "job = client.query(create_fe_model_sql)\n",
        "job.result()\n",
        "print(\"Engineered model created:\", job.job_id)\n"
      ]
    },
    {
      "cell_type": "markdown",
      "id": "bb73e738",
      "metadata": {
        "id": "bb73e738"
      },
      "source": [
        "## 6) Compare Performance"
      ]
    },
    {
      "cell_type": "code",
      "execution_count": null,
      "id": "0de65da6",
      "metadata": {
        "id": "0de65da6"
      },
      "outputs": [],
      "source": [
        "\n",
        "new_eval_sql = f\"\"\"\n",
        "SELECT *\n",
        "FROM ML.EVALUATE(MODEL {NEW_MODEL_FQN})\n",
        "\"\"\"\n",
        "print(new_eval_sql)\n",
        "new_eval_df = client.query(new_eval_sql).result().to_dataframe()\n",
        "new_eval_df\n"
      ]
    },
    {
      "cell_type": "markdown",
      "id": "d301841f",
      "metadata": {
        "id": "d301841f"
      },
      "source": [
        "\n",
        "**Create a comparison table** (fill with your numbers):\n",
        "\n",
        "| Model | Precision | Recall |\n",
        "|------|-----------|--------|\n",
        "| Baseline (Lab 5) | _(your value)_ | _(your value)_ |\n",
        "| Engineered (Lab 6) | _(your value)_ | _(your value)_ |\n",
        "\n",
        "**Interpretation:** Did feature engineering improve precision and/or recall? Explain the trade-offs.\n"
      ]
    },
    {
      "cell_type": "markdown",
      "id": "c3637793",
      "metadata": {
        "id": "c3637793"
      },
      "source": [
        "## 7) Challenge — BUCKETIZE dep_delay"
      ]
    },
    {
      "cell_type": "code",
      "execution_count": null,
      "id": "38502e9b",
      "metadata": {
        "id": "38502e9b"
      },
      "outputs": [],
      "source": [
        "\n",
        "challenge_prompt = \"\"\"\n",
        "# TASK: Help me write a TRANSFORM clause in BQML that uses ML.BUCKETIZE on the dep_delay column\n",
        "#       to create 4 buckets representing delay severity (e.g., 'early_or_on_time', 'minor_delay',\n",
        "#       'moderate_delay', 'major_delay').\n",
        "# CONTEXT: This is for improving the flight diversion classifier.\n",
        "\"\"\"\n",
        "print(challenge_prompt)\n"
      ]
    },
    {
      "cell_type": "markdown",
      "id": "d9d265fc",
      "metadata": {
        "id": "d9d265fc"
      },
      "source": [
        "\n",
        "**Hint (example pattern to adapt):**\n",
        "```sql\n",
        "TRANSFORM = (\n",
        "  SELECT\n",
        "    ...,\n",
        "    ML.BUCKETIZE(dep_delay, [0, 15, 45]) AS dep_delay_bucket  -- 4 buckets: (-inf,0), [0,15), [15,45), [45,inf)\n",
        "  FROM ...\n",
        ")\n",
        "```\n",
        "Choose bucket edges that make business sense for your analysis.\n"
      ]
    }
  ],
  "metadata": {
    "colab": {
      "provenance": [],
      "include_colab_link": true
    },
    "kernelspec": {
      "display_name": "Python 3",
      "language": "python",
      "name": "python3"
    },
    "language_info": {
      "name": "python",
      "version": "3.x"
    }
  },
  "nbformat": 4,
  "nbformat_minor": 5
}