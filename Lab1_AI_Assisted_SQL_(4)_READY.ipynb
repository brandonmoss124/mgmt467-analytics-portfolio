{
  "cells": [
    {
      "cell_type": "markdown",
      "metadata": {
        "id": "view-in-github",
        "colab_type": "text"
      },
      "source": [
        "<a href=\"https://colab.research.google.com/github/brandonmoss124/mgmt467-analytics-portfolio/blob/main/Lab1_AI_Assisted_SQL_(4)_READY.ipynb\" target=\"_parent\"><img src=\"https://colab.research.google.com/assets/colab-badge.svg\" alt=\"Open In Colab\"/></a>"
      ]
    },
    {
      "cell_type": "markdown",
      "id": "cb55fa7f",
      "metadata": {
        "id": "cb55fa7f"
      },
      "source": [
        "# Lab 1 – AI-Assisted SQL (Annotated)\n",
        "**Week 3 (Thu) – Prompting & SQL Foundations**\n",
        "\n",
        "**Goal:** Use Gemini as a co‑pilot to write and understand basic SQL against the *Superstore* dataset in BigQuery.\n",
        "\n",
        "**Deliverable:** Complete this notebook (prompts, code, outputs), push to GitHub, submit link to Brightspace."
      ]
    },
    {
      "cell_type": "markdown",
      "id": "520f904c",
      "metadata": {
        "id": "520f904c"
      },
      "source": [
        "## 0) Setup & Connection"
      ]
    },
    {
      "cell_type": "code",
      "execution_count": null,
      "id": "050fec45",
      "metadata": {
        "id": "050fec45"
      },
      "outputs": [],
      "source": [
        "#@title Install libraries\n",
        "!pip -q install google-cloud-bigquery google-cloud-bigquery-storage db-dtypes pandas pyarrow --upgrade\n",
        "\n",
        "from google.cloud import bigquery\n",
        "from google.colab import auth\n",
        "import pandas as pd\n",
        "import os\n",
        "\n",
        "print(\"Libraries imported.\")"
      ]
    },
    {
      "cell_type": "code",
      "execution_count": null,
      "id": "5d4868bc",
      "metadata": {
        "id": "5d4868bc"
      },
      "outputs": [],
      "source": [
        "#@title Authenticate & set project (EDIT PROJECT_ID)\n",
        "auth.authenticate_user()\n",
        "print(\"✅ Authenticated.\")\n",
        "\n",
        "PROJECT_ID = \"YOUR_PROJECT_ID_HERE\"  # <-- EDIT THIS\n",
        "assert PROJECT_ID != \"YOUR_PROJECT_ID_HERE\", \"Please set PROJECT_ID to your GCP project id.\"\n",
        "os.environ[\"GOOGLE_CLOUD_PROJECT\"] = PROJECT_ID\n",
        "\n",
        "bq = bigquery.Client(project=PROJECT_ID)\n",
        "print(\"✅ BigQuery client created for:\", PROJECT_ID)"
      ]
    },
    {
      "cell_type": "code",
      "execution_count": null,
      "id": "dd51db4e",
      "metadata": {
        "id": "dd51db4e"
      },
      "outputs": [],
      "source": [
        "#@title Quick connection test (optional)\n",
        "DATASET = \"superstore_data\"\n",
        "TABLE   = \"sales\"\n",
        "BQ_TABLE = f\"`{PROJECT_ID}.{DATASET}.{TABLE}`\"\n",
        "\n",
        "try:\n",
        "    preview = bq.query(f\"SELECT * FROM {BQ_TABLE} LIMIT 5\").to_dataframe()\n",
        "    display(preview)\n",
        "    print(\"✅ Connection OK.\")\n",
        "except Exception as e:\n",
        "    print(\"⚠ Could not query the table. Double-check dataset/table names.\")\n",
        "    print(e)"
      ]
    },
    {
      "cell_type": "markdown",
      "id": "42cad49a",
      "metadata": {
        "id": "42cad49a"
      },
      "source": [
        "---\n",
        "## 1) Prompting Approach\n",
        "- **“What”** → `SELECT`, `WHERE`, `DISTINCT`\n",
        "- **“How many”** → `COUNT`, `GROUP BY`\n",
        "- **“Who is best”** → `SUM`, `ORDER BY`, `LIMIT`"
      ]
    },
    {
      "cell_type": "markdown",
      "id": "04674bbf",
      "metadata": {
        "id": "04674bbf"
      },
      "source": [
        "### 1A) “What” — Unique Sub-Categories in the West\n",
        "**Business Q:** List all **unique** `Sub_Category` where `Region = 'West'`.\n",
        "\n",
        "**Gemini prompt (copy into Gemini):"
      ]
    },
    {
      "cell_type": "code",
      "execution_count": null,
      "id": "7407d68b",
      "metadata": {
        "id": "7407d68b"
      },
      "outputs": [],
      "source": [
        "prompt = \"\"\"\n",
        "# TASK: Generate a BigQuery SQL query.\n",
        "# CONTEXT: The table is `[YOUR_PROJECT_ID].superstore_data.sales`.\n",
        "# GOAL: Find all the unique values in the 'Sub_Category' column, but only for rows where the 'Region' column is exactly 'West'.\n",
        "\"\"\"\n",
        "print(prompt)"
      ]
    },
    {
      "cell_type": "code",
      "execution_count": null,
      "id": "b689bf1f",
      "metadata": {
        "id": "b689bf1f"
      },
      "outputs": [],
      "source": [
        "# Reference SQL (you can paste Gemini's instead)\n",
        "sql_what = f\"\"\"\n",
        "SELECT DISTINCT Sub_Category\n",
        "FROM `{PROJECT_ID}.superstore_data.sales`\n",
        "WHERE Region = 'West'\n",
        "ORDER BY Sub_Category;\n",
        "\"\"\"\n",
        "df_what = bq.query(sql_what).to_dataframe()\n",
        "display(df_what)"
      ]
    },
    {
      "cell_type": "markdown",
      "id": "f95be0dd",
      "metadata": {
        "id": "f95be0dd"
      },
      "source": [
        "**Line‑by‑line explanation (example):**\n",
        "- `SELECT DISTINCT Sub_Category` → return each sub‑category once.\n",
        "- `FROM <project>.superstore_data.sales` → which table to query.\n",
        "- `WHERE Region = 'West'` → filter to West.\n",
        "- `ORDER BY Sub_Category` → sort alphabetically."
      ]
    },
    {
      "cell_type": "markdown",
      "id": "b2fd2278",
      "metadata": {
        "id": "b2fd2278"
      },
      "source": [
        "### 1B) “How many” — Orders by Ship Mode\n",
        "**Business Q:** How many orders per `Ship_Mode`?\n",
        "\n",
        "**Gemini prompt:**"
      ]
    },
    {
      "cell_type": "code",
      "execution_count": null,
      "id": "039c7f5b",
      "metadata": {
        "id": "039c7f5b"
      },
      "outputs": [],
      "source": [
        "prompt = \"\"\"\n",
        "# TASK: Generate a BigQuery SQL query.\n",
        "# CONTEXT: The table is `[YOUR_PROJECT_ID].superstore_data.sales`.\n",
        "# GOAL: Count the total number of records for each unique value in the 'Ship_Mode' column.\n",
        "# The final result should have two columns: 'Ship_Mode' and 'order_count'.\n",
        "\"\"\"\n",
        "print(prompt)"
      ]
    },
    {
      "cell_type": "code",
      "execution_count": null,
      "id": "79a365b0",
      "metadata": {
        "id": "79a365b0"
      },
      "outputs": [],
      "source": [
        "# Reference SQL\n",
        "sql_how_many = f\"\"\"\n",
        "SELECT Ship_Mode, COUNT(*) AS order_count\n",
        "FROM `{PROJECT_ID}.superstore_data.sales`\n",
        "GROUP BY Ship_Mode\n",
        "ORDER BY order_count DESC;\n",
        "\"\"\"\n",
        "df_how = bq.query(sql_how_many).to_dataframe()\n",
        "display(df_how)"
      ]
    },
    {
      "cell_type": "markdown",
      "id": "0279225a",
      "metadata": {
        "id": "0279225a"
      },
      "source": [
        "### 1C) “Who is best” — Top 5 Most Profitable Customers\n",
        "**Business Q:** Identify top 5 customers by total profit.\n",
        "\n",
        "**Gemini prompt:**"
      ]
    },
    {
      "cell_type": "code",
      "execution_count": null,
      "id": "53ccfb6a",
      "metadata": {
        "id": "53ccfb6a"
      },
      "outputs": [],
      "source": [
        "prompt = \"\"\"\n",
        "# TASK: Generate a BigQuery SQL query.\n",
        "# CONTEXT: The table is `[YOUR_PROJECT_ID].superstore_data.sales`. The customer identifier is 'Customer_ID'.\n",
        "# GOAL: Calculate the sum of 'Profit' for each customer. The final output should show the 'Customer_ID' and their total profit, sorted from highest to lowest profit, and limited to only the top 5 results.\n",
        "\"\"\"\n",
        "print(prompt)"
      ]
    },
    {
      "cell_type": "code",
      "execution_count": null,
      "id": "7f115ed7",
      "metadata": {
        "id": "7f115ed7"
      },
      "outputs": [],
      "source": [
        "# Reference SQL\n",
        "sql_top5 = f\"\"\"\n",
        "SELECT Customer_ID, SUM(Profit) AS total_profit\n",
        "FROM `{PROJECT_ID}.superstore_data.sales`\n",
        "GROUP BY Customer_ID\n",
        "ORDER BY total_profit DESC\n",
        "LIMIT 5;\n",
        "\"\"\"\n",
        "df_top5 = bq.query(sql_top5).to_dataframe()\n",
        "display(df_top5)"
      ]
    },
    {
      "cell_type": "markdown",
      "id": "8bdbae0d",
      "metadata": {
        "id": "8bdbae0d"
      },
      "source": [
        "---\n",
        "## 2) Challenge – Author Your Own Prompts"
      ]
    },
    {
      "cell_type": "markdown",
      "id": "9c286f0c",
      "metadata": {
        "id": "9c286f0c"
      },
      "source": [
        "### Challenge 1 – Average discount for Technology (East)\n",
        "**Your precise Gemini prompt (example):**\n",
        "```\n",
        "# TASK: Generate a BigQuery SQL query.\n",
        "# CONTEXT: The table is `[YOUR_PROJECT_ID].superstore_data.sales`.\n",
        "# GOAL: Compute the average 'Discount' where Category = 'Technology' and Region = 'East'.\n",
        "# OUTPUT: `avg_discount`.\n",
        "```"
      ]
    },
    {
      "cell_type": "code",
      "execution_count": null,
      "id": "1b6160ef",
      "metadata": {
        "id": "1b6160ef"
      },
      "outputs": [],
      "source": [
        "sql_c1 = f\"\"\"\n",
        "SELECT AVG(Discount) AS avg_discount\n",
        "FROM `{PROJECT_ID}.superstore_data.sales`\n",
        "WHERE Category = 'Technology' AND Region = 'East';\n",
        "\"\"\"\n",
        "df_c1 = bq.query(sql_c1).to_dataframe()\n",
        "display(df_c1)"
      ]
    },
    {
      "cell_type": "markdown",
      "id": "c5ad2a45",
      "metadata": {
        "id": "c5ad2a45"
      },
      "source": [
        "### Challenge 2 – Unique customers per Segment\n",
        "**Your precise Gemini prompt (example):**\n",
        "```\n",
        "# TASK: Generate a BigQuery SQL query.\n",
        "# CONTEXT: The table is `[YOUR_PROJECT_ID].superstore_data.sales`.\n",
        "# GOAL: For each 'Segment', count distinct 'Customer_ID' as `unique_customers`, sorted desc.\n",
        "```"
      ]
    },
    {
      "cell_type": "code",
      "execution_count": null,
      "id": "7e63ccb8",
      "metadata": {
        "id": "7e63ccb8"
      },
      "outputs": [],
      "source": [
        "sql_c2 = f\"\"\"\n",
        "SELECT Segment, COUNT(DISTINCT Customer_ID) AS unique_customers\n",
        "FROM `{PROJECT_ID}.superstore_data.sales`\n",
        "GROUP BY Segment\n",
        "ORDER BY unique_customers DESC;\n",
        "\"\"\"\n",
        "df_c2 = bq.query(sql_c2).to_dataframe()\n",
        "display(df_c2)"
      ]
    },
    {
      "cell_type": "markdown",
      "id": "ce01199e",
      "metadata": {
        "id": "ce01199e"
      },
      "source": [
        "---\n",
        "## 3) Reflection – DIVE\n",
        "- **Discover** / **Investigate** / **Validate** / **Extend**"
      ]
    },
    {
      "cell_type": "markdown",
      "id": "7f6d1685",
      "metadata": {
        "id": "7f6d1685"
      },
      "source": [
        "\n",
        "## Submit\n",
        "\n",
        "- Push **Lab1_...ipynb** to your GitHub repo under the `Labs/` folder.  \n",
        "- Submit the GitHub link on Brightspace before the deadline.\n"
      ]
    }
  ],
  "metadata": {
    "colab": {
      "provenance": [],
      "include_colab_link": true
    },
    "kernelspec": {
      "display_name": "Python 3",
      "language": "python",
      "name": "python3"
    },
    "language_info": {
      "name": "python",
      "version": "3.x"
    }
  },
  "nbformat": 4,
  "nbformat_minor": 5
}