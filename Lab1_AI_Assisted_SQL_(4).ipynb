{
  "cells": [
    {
      "cell_type": "markdown",
      "metadata": {
        "id": "view-in-github",
        "colab_type": "text"
      },
      "source": [
        "<a href=\"https://colab.research.google.com/github/brandonmoss124/mgmt467-analytics-portfolio/blob/main/Lab1_AI_Assisted_SQL_(4).ipynb\" target=\"_parent\"><img src=\"https://colab.research.google.com/assets/colab-badge.svg\" alt=\"Open In Colab\"/></a>"
      ]
    },
    {
      "cell_type": "markdown",
      "metadata": {
        "id": "C2EjOGmBpnsT"
      },
      "source": [
        "# Lab 1 – AI-Assisted SQL (Annotated)\n",
        "**Week 3 (Thu) – Prompting & SQL Foundations**\n",
        "\n",
        "**Goal:** Use Gemini as a co‑pilot to write and understand basic SQL against the *Superstore* dataset in BigQuery.\n",
        "\n",
        "**Deliverable:** Complete this notebook (prompts, code, outputs), push to GitHub, submit link to Brightspace."
      ],
      "id": "C2EjOGmBpnsT"
    },
    {
      "cell_type": "markdown",
      "metadata": {
        "id": "O_ZSiLm0pnsV"
      },
      "source": [
        "## 0) Setup & Connection"
      ],
      "id": "O_ZSiLm0pnsV"
    },
    {
      "cell_type": "code",
      "metadata": {
        "id": "saV9vx1bpnsV"
      },
      "source": [
        "#@title Install libraries\n",
        "!pip -q install google-cloud-bigquery google-cloud-bigquery-storage db-dtypes pandas pyarrow --upgrade\n",
        "\n",
        "from google.cloud import bigquery\n",
        "from google.colab import auth\n",
        "import pandas as pd\n",
        "import os\n",
        "\n",
        "print(\"Libraries imported.\")"
      ],
      "outputs": [],
      "execution_count": null,
      "id": "saV9vx1bpnsV"
    },
    {
      "cell_type": "code",
      "metadata": {
        "id": "ugOEFr9XpnsW"
      },
      "source": [
        "#@title Authenticate & set project (EDIT PROJECT_ID)\n",
        "auth.authenticate_user()\n",
        "print(\"✅ Authenticated.\")\n",
        "\n",
        "PROJECT_ID = \"YOUR_PROJECT_ID_HERE\"  # <-- EDIT THIS\n",
        "assert PROJECT_ID != \"YOUR_PROJECT_ID_HERE\", \"Please set PROJECT_ID to your GCP project id.\"\n",
        "os.environ[\"GOOGLE_CLOUD_PROJECT\"] = PROJECT_ID\n",
        "\n",
        "bq = bigquery.Client(project=PROJECT_ID)\n",
        "print(\"✅ BigQuery client created for:\", PROJECT_ID)"
      ],
      "outputs": [],
      "execution_count": null,
      "id": "ugOEFr9XpnsW"
    },
    {
      "cell_type": "code",
      "metadata": {
        "id": "6R3Z-jjPpnsW"
      },
      "source": [
        "#@title Quick connection test (optional)\n",
        "DATASET = \"superstore_data\"\n",
        "TABLE   = \"sales\"\n",
        "BQ_TABLE = f\"`{PROJECT_ID}.{DATASET}.{TABLE}`\"\n",
        "\n",
        "try:\n",
        "    preview = bq.query(f\"SELECT * FROM {BQ_TABLE} LIMIT 5\").to_dataframe()\n",
        "    display(preview)\n",
        "    print(\"✅ Connection OK.\")\n",
        "except Exception as e:\n",
        "    print(\"⚠ Could not query the table. Double-check dataset/table names.\")\n",
        "    print(e)"
      ],
      "outputs": [],
      "execution_count": null,
      "id": "6R3Z-jjPpnsW"
    },
    {
      "cell_type": "markdown",
      "metadata": {
        "id": "firrCzZypnsX"
      },
      "source": [
        "---\n",
        "## 1) Prompting Approach\n",
        "- **“What”** → `SELECT`, `WHERE`, `DISTINCT`\n",
        "- **“How many”** → `COUNT`, `GROUP BY`\n",
        "- **“Who is best”** → `SUM`, `ORDER BY`, `LIMIT`"
      ],
      "id": "firrCzZypnsX"
    },
    {
      "cell_type": "markdown",
      "metadata": {
        "id": "wNX7kN9_pnsX"
      },
      "source": [
        "### 1A) “What” — Unique Sub-Categories in the West\n",
        "**Business Q:** List all **unique** `Sub_Category` where `Region = 'West'`.\n",
        "\n",
        "**Gemini prompt (copy into Gemini):"
      ],
      "id": "wNX7kN9_pnsX"
    },
    {
      "cell_type": "code",
      "metadata": {
        "id": "j-MZyQdypnsX"
      },
      "source": [
        "prompt = \"\"\"\n",
        "# TASK: Generate a BigQuery SQL query.\n",
        "# CONTEXT: The table is `[YOUR_PROJECT_ID].superstore_data.sales`.\n",
        "# GOAL: Find all the unique values in the 'Sub_Category' column, but only for rows where the 'Region' column is exactly 'West'.\n",
        "\"\"\"\n",
        "print(prompt)"
      ],
      "outputs": [],
      "execution_count": null,
      "id": "j-MZyQdypnsX"
    },
    {
      "cell_type": "code",
      "metadata": {
        "id": "ZjK3s1OUpnsY"
      },
      "source": [
        "# Reference SQL (you can paste Gemini's instead)\n",
        "sql_what = f\"\"\"\n",
        "SELECT DISTINCT Sub_Category\n",
        "FROM `{PROJECT_ID}.superstore_data.sales`\n",
        "WHERE Region = 'West'\n",
        "ORDER BY Sub_Category;\n",
        "\"\"\"\n",
        "df_what = bq.query(sql_what).to_dataframe()\n",
        "display(df_what)"
      ],
      "outputs": [],
      "execution_count": null,
      "id": "ZjK3s1OUpnsY"
    },
    {
      "cell_type": "markdown",
      "metadata": {
        "id": "fj5un3SxpnsY"
      },
      "source": [
        "**Line‑by‑line explanation (example):**\n",
        "- `SELECT DISTINCT Sub_Category` → return each sub‑category once.\n",
        "- `FROM <project>.superstore_data.sales` → which table to query.\n",
        "- `WHERE Region = 'West'` → filter to West.\n",
        "- `ORDER BY Sub_Category` → sort alphabetically."
      ],
      "id": "fj5un3SxpnsY"
    },
    {
      "cell_type": "markdown",
      "metadata": {
        "id": "dvNSAvzPpnsY"
      },
      "source": [
        "### 1B) “How many” — Orders by Ship Mode\n",
        "**Business Q:** How many orders per `Ship_Mode`?\n",
        "\n",
        "**Gemini prompt:**"
      ],
      "id": "dvNSAvzPpnsY"
    },
    {
      "cell_type": "code",
      "metadata": {
        "id": "8h3q66uXpnsZ"
      },
      "source": [
        "prompt = \"\"\"\n",
        "# TASK: Generate a BigQuery SQL query.\n",
        "# CONTEXT: The table is `[YOUR_PROJECT_ID].superstore_data.sales`.\n",
        "# GOAL: Count the total number of records for each unique value in the 'Ship_Mode' column.\n",
        "# The final result should have two columns: 'Ship_Mode' and 'order_count'.\n",
        "\"\"\"\n",
        "print(prompt)"
      ],
      "outputs": [],
      "execution_count": null,
      "id": "8h3q66uXpnsZ"
    },
    {
      "cell_type": "code",
      "metadata": {
        "id": "fVQ38wEEpnsZ"
      },
      "source": [
        "# Reference SQL\n",
        "sql_how_many = f\"\"\"\n",
        "SELECT Ship_Mode, COUNT(*) AS order_count\n",
        "FROM `{PROJECT_ID}.superstore_data.sales`\n",
        "GROUP BY Ship_Mode\n",
        "ORDER BY order_count DESC;\n",
        "\"\"\"\n",
        "df_how = bq.query(sql_how_many).to_dataframe()\n",
        "display(df_how)"
      ],
      "outputs": [],
      "execution_count": null,
      "id": "fVQ38wEEpnsZ"
    },
    {
      "cell_type": "markdown",
      "metadata": {
        "id": "K6EDxXKGpnsZ"
      },
      "source": [
        "### 1C) “Who is best” — Top 5 Most Profitable Customers\n",
        "**Business Q:** Identify top 5 customers by total profit.\n",
        "\n",
        "**Gemini prompt:**"
      ],
      "id": "K6EDxXKGpnsZ"
    },
    {
      "cell_type": "code",
      "metadata": {
        "id": "EAC8zzjhpnsZ"
      },
      "source": [
        "prompt = \"\"\"\n",
        "# TASK: Generate a BigQuery SQL query.\n",
        "# CONTEXT: The table is `[YOUR_PROJECT_ID].superstore_data.sales`. The customer identifier is 'Customer_ID'.\n",
        "# GOAL: Calculate the sum of 'Profit' for each customer. The final output should show the 'Customer_ID' and their total profit, sorted from highest to lowest profit, and limited to only the top 5 results.\n",
        "\"\"\"\n",
        "print(prompt)"
      ],
      "outputs": [],
      "execution_count": null,
      "id": "EAC8zzjhpnsZ"
    },
    {
      "cell_type": "code",
      "metadata": {
        "id": "F7hpd_5opnsZ"
      },
      "source": [
        "# Reference SQL\n",
        "sql_top5 = f\"\"\"\n",
        "SELECT Customer_ID, SUM(Profit) AS total_profit\n",
        "FROM `{PROJECT_ID}.superstore_data.sales`\n",
        "GROUP BY Customer_ID\n",
        "ORDER BY total_profit DESC\n",
        "LIMIT 5;\n",
        "\"\"\"\n",
        "df_top5 = bq.query(sql_top5).to_dataframe()\n",
        "display(df_top5)"
      ],
      "outputs": [],
      "execution_count": null,
      "id": "F7hpd_5opnsZ"
    },
    {
      "cell_type": "markdown",
      "metadata": {
        "id": "-XUmZ6DopnsZ"
      },
      "source": [
        "---\n",
        "## 2) Challenge – Author Your Own Prompts"
      ],
      "id": "-XUmZ6DopnsZ"
    },
    {
      "cell_type": "markdown",
      "metadata": {
        "id": "3BvxValYpnsZ"
      },
      "source": [
        "### Challenge 1 – Average discount for Technology (East)\n",
        "**Your precise Gemini prompt (example):**\n",
        "```\n",
        "# TASK: Generate a BigQuery SQL query.\n",
        "# CONTEXT: The table is `[YOUR_PROJECT_ID].superstore_data.sales`.\n",
        "# GOAL: Compute the average 'Discount' where Category = 'Technology' and Region = 'East'.\n",
        "# OUTPUT: `avg_discount`.\n",
        "```"
      ],
      "id": "3BvxValYpnsZ"
    },
    {
      "cell_type": "code",
      "metadata": {
        "id": "6rHtyzrWpnsZ"
      },
      "source": [
        "sql_c1 = f\"\"\"\n",
        "SELECT AVG(Discount) AS avg_discount\n",
        "FROM `{PROJECT_ID}.superstore_data.sales`\n",
        "WHERE Category = 'Technology' AND Region = 'East';\n",
        "\"\"\"\n",
        "df_c1 = bq.query(sql_c1).to_dataframe()\n",
        "display(df_c1)"
      ],
      "outputs": [],
      "execution_count": null,
      "id": "6rHtyzrWpnsZ"
    },
    {
      "cell_type": "markdown",
      "metadata": {
        "id": "440bv31hpnsa"
      },
      "source": [
        "### Challenge 2 – Unique customers per Segment\n",
        "**Your precise Gemini prompt (example):**\n",
        "```\n",
        "# TASK: Generate a BigQuery SQL query.\n",
        "# CONTEXT: The table is `[YOUR_PROJECT_ID].superstore_data.sales`.\n",
        "# GOAL: For each 'Segment', count distinct 'Customer_ID' as `unique_customers`, sorted desc.\n",
        "```"
      ],
      "id": "440bv31hpnsa"
    },
    {
      "cell_type": "code",
      "metadata": {
        "id": "LlZDNog1pnsa"
      },
      "source": [
        "sql_c2 = f\"\"\"\n",
        "SELECT Segment, COUNT(DISTINCT Customer_ID) AS unique_customers\n",
        "FROM `{PROJECT_ID}.superstore_data.sales`\n",
        "GROUP BY Segment\n",
        "ORDER BY unique_customers DESC;\n",
        "\"\"\"\n",
        "df_c2 = bq.query(sql_c2).to_dataframe()\n",
        "display(df_c2)"
      ],
      "outputs": [],
      "execution_count": null,
      "id": "LlZDNog1pnsa"
    },
    {
      "cell_type": "markdown",
      "metadata": {
        "id": "AB4iDEpppnsa"
      },
      "source": [
        "---\n",
        "## 3) Reflection – DIVE\n",
        "- **Discover** / **Investigate** / **Validate** / **Extend**"
      ],
      "id": "AB4iDEpppnsa"
    }
  ],
  "metadata": {
    "kernelspec": {
      "display_name": "Python 3",
      "language": "python",
      "name": "python3"
    },
    "language_info": {
      "name": "python",
      "version": "3.x"
    },
    "colab": {
      "provenance": [],
      "include_colab_link": true
    }
  },
  "nbformat": 4,
  "nbformat_minor": 5
}