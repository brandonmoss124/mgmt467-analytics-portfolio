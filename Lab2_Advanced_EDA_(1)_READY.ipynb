{
  "cells": [
    {
      "cell_type": "markdown",
      "metadata": {
        "id": "view-in-github",
        "colab_type": "text"
      },
      "source": [
        "<a href=\"https://colab.research.google.com/github/brandonmoss124/mgmt467-analytics-portfolio/blob/main/Lab2_Advanced_EDA_(1)_READY.ipynb\" target=\"_parent\"><img src=\"https://colab.research.google.com/assets/colab-badge.svg\" alt=\"Open In Colab\"/></a>"
      ]
    },
    {
      "cell_type": "markdown",
      "id": "0dba837c",
      "metadata": {
        "id": "0dba837c"
      },
      "source": [
        "# Lab 2 – Advanced EDA with SQL + Plotly\n",
        "**Week 4 (Thu)** – CTEs, Window Functions, Interactive Line Chart"
      ]
    },
    {
      "cell_type": "code",
      "execution_count": null,
      "id": "efe17442",
      "metadata": {
        "id": "efe17442"
      },
      "outputs": [],
      "source": [
        "#@title Setup (auth + libs)\n",
        "!pip -q install google-cloud-bigquery pandas pyarrow plotly --upgrade\n",
        "from google.cloud import bigquery\n",
        "from google.colab import auth\n",
        "import pandas as pd, plotly.express as px\n",
        "auth.authenticate_user()\n",
        "PROJECT_ID = \"YOUR_PROJECT_ID_HERE\"  # <-- EDIT\n",
        "bq = bigquery.Client(project=PROJECT_ID)"
      ]
    },
    {
      "cell_type": "markdown",
      "id": "bff5b542",
      "metadata": {
        "id": "bff5b542"
      },
      "source": [
        "## D – Discover (CTE): Top 3 Sub-Categories in 2023"
      ]
    },
    {
      "cell_type": "code",
      "execution_count": null,
      "id": "686be6a1",
      "metadata": {
        "id": "686be6a1"
      },
      "outputs": [],
      "source": [
        "prompt = \"\"\"\n",
        "# TASK: Generate a BigQuery SQL query using a Common Table Expression (CTE).\n",
        "# GOAL: Find the top 3 product sub-categories by total sales in the year 2023.\n",
        "# STEP 1 (in the CTE): Create a temporary table named 'yearly_sales' that calculates the sum of 'Sales' for each 'Sub_Category', filtering for orders where the year of 'Order_Date' is 2023.\n",
        "# STEP 2 (in the final SELECT): Select the 'Sub_Category' and total sales from 'yearly_sales', order by sales descending, and limit to 3 results.\n",
        "\"\"\"\n",
        "print(prompt)"
      ]
    },
    {
      "cell_type": "code",
      "execution_count": null,
      "id": "f8498b97",
      "metadata": {
        "id": "f8498b97"
      },
      "outputs": [],
      "source": [
        "sql_cte = f\"\"\"\n",
        "WITH yearly_sales AS (\n",
        "  SELECT Sub_Category, SUM(Sales) AS total_sales\n",
        "  FROM `{PROJECT_ID}.superstore_data.sales`\n",
        "  WHERE EXTRACT(YEAR FROM Order_Date) = 2023\n",
        "  GROUP BY Sub_Category\n",
        ")\n",
        "SELECT Sub_Category, total_sales\n",
        "FROM yearly_sales\n",
        "ORDER BY total_sales DESC\n",
        "LIMIT 3;\n",
        "\"\"\"\n",
        "df_cte = bq.query(sql_cte).to_dataframe()\n",
        "display(df_cte)"
      ]
    },
    {
      "cell_type": "markdown",
      "id": "ab04e513",
      "metadata": {
        "id": "ab04e513"
      },
      "source": [
        "Write: “The top 3 sub‑categories in 2023 were …”"
      ]
    },
    {
      "cell_type": "markdown",
      "id": "66f0e699",
      "metadata": {
        "id": "66f0e699"
      },
      "source": [
        "## I – Investigate (Window): YoY growth for Phones"
      ]
    },
    {
      "cell_type": "code",
      "execution_count": null,
      "id": "29e73024",
      "metadata": {
        "id": "29e73024"
      },
      "outputs": [],
      "source": [
        "prompt = \"\"\"\n",
        "# TASK: Generate a BigQuery SQL query using a window function.\n",
        "# GOAL: Calculate the year-over-year sales growth for the 'Phones' sub-category.\n",
        "# STEPS:\n",
        "# 1. Filter for 'Phones'.\n",
        "# 2. Sum sales by year.\n",
        "# 3. Use LAG() to get previous_year_sales.\n",
        "# 4. Compute YoY% = ((current - previous)/previous)*100.\n",
        "\"\"\"\n",
        "print(prompt)"
      ]
    },
    {
      "cell_type": "code",
      "execution_count": null,
      "id": "fd563d9d",
      "metadata": {
        "id": "fd563d9d"
      },
      "outputs": [],
      "source": [
        "sql_yoy = f\"\"\"\n",
        "WITH yearly AS (\n",
        "  SELECT EXTRACT(YEAR FROM Order_Date) AS year,\n",
        "         SUM(Sales) AS current_sales\n",
        "  FROM `{PROJECT_ID}.superstore_data.sales`\n",
        "  WHERE Sub_Category = 'Phones'\n",
        "  GROUP BY year\n",
        ")\n",
        "SELECT year,\n",
        "       current_sales,\n",
        "       LAG(current_sales) OVER (ORDER BY year) AS previous_year_sales,\n",
        "       SAFE_DIVIDE(current_sales - LAG(current_sales) OVER (ORDER BY year), LAG(current_sales) OVER (ORDER BY year)) * 100 AS yoy_pct\n",
        "FROM yearly\n",
        "ORDER BY year;\n",
        "\"\"\"\n",
        "df_yoy = bq.query(sql_yoy).to_dataframe()\n",
        "display(df_yoy)"
      ]
    },
    {
      "cell_type": "code",
      "execution_count": null,
      "id": "9c9b1e87",
      "metadata": {
        "id": "9c9b1e87"
      },
      "outputs": [],
      "source": [
        "import plotly.express as px\n",
        "fig = px.line(df_yoy, x='year', y='current_sales', markers=True, title='Yearly Sales – Phones')\n",
        "fig.update_layout(xaxis_title='Year', yaxis_title='Sales')\n",
        "fig.show()"
      ]
    },
    {
      "cell_type": "markdown",
      "id": "5a1f08d6",
      "metadata": {
        "id": "5a1f08d6"
      },
      "source": [
        "Note one insight only visible due to interactivity (hover values, inflection year, etc.)."
      ]
    },
    {
      "cell_type": "markdown",
      "id": "c1fd027d",
      "metadata": {
        "id": "c1fd027d"
      },
      "source": [
        "## Challenges – Author Prompts"
      ]
    },
    {
      "cell_type": "code",
      "execution_count": null,
      "id": "be117398",
      "metadata": {
        "id": "be117398"
      },
      "outputs": [],
      "source": [
        "# Challenge 1 – Highest single-day sales in 2023 (CTE)\n",
        "sql_c1 = f\"\"\"\n",
        "WITH daily AS (\n",
        "  SELECT DATE(Order_Date) AS order_date,\n",
        "         Sub_Category,\n",
        "         SUM(Sales) AS day_sales\n",
        "  FROM `{PROJECT_ID}.superstore_data.sales`\n",
        "  WHERE EXTRACT(YEAR FROM Order_Date) = 2023\n",
        "  GROUP BY order_date, Sub_Category\n",
        ")\n",
        "SELECT order_date, Sub_Category, day_sales\n",
        "FROM daily\n",
        "ORDER BY day_sales DESC\n",
        "LIMIT 1;\n",
        "\"\"\"\n",
        "df_c1 = bq.query(sql_c1).to_dataframe()\n",
        "display(df_c1)"
      ]
    },
    {
      "cell_type": "code",
      "execution_count": null,
      "id": "23c1e29c",
      "metadata": {
        "id": "23c1e29c"
      },
      "outputs": [],
      "source": [
        "# Challenge 2 – 3‑month moving average for Corporate segment\n",
        "sql_c2 = f\"\"\"\n",
        "WITH monthly AS (\n",
        "  SELECT DATE_TRUNC(DATE(Order_Date), MONTH) AS month,\n",
        "         SUM(Sales) AS sales\n",
        "  FROM `{PROJECT_ID}.superstore_data.sales`\n",
        "  WHERE Segment = 'Corporate'\n",
        "  GROUP BY month\n",
        ")\n",
        "SELECT month,\n",
        "       sales,\n",
        "       AVG(sales) OVER (ORDER BY month ROWS BETWEEN 2 PRECEDING AND CURRENT ROW) AS moving_avg_3m\n",
        "FROM monthly\n",
        "ORDER BY month;\n",
        "\"\"\"\n",
        "df_c2 = bq.query(sql_c2).to_dataframe()\n",
        "display(df_c2)"
      ]
    },
    {
      "cell_type": "markdown",
      "id": "2ea02fbb",
      "metadata": {
        "id": "2ea02fbb"
      },
      "source": [
        "\n",
        "## Reflection (DIVE)\n",
        "\n",
        "- **Discover**: Briefly note the first relevant answer Gemini produced and what it showed.\n",
        "- **Investigate**: Describe another angle or alternate query you explored.\n",
        "- **Validate**: Explain how you checked Gemini's outputs (e.g., sanity counts, comparing against expectations).\n",
        "- **Extend**: Propose a new business question that emerged from your results.\n"
      ]
    },
    {
      "cell_type": "markdown",
      "id": "83b55c5e",
      "metadata": {
        "id": "83b55c5e"
      },
      "source": [
        "### Insight (from interactive Plotly chart)\n",
        "- Example: *'Phones had consistent growth from 2020–2023, with the largest jump in 2022 visible on hover values.'*"
      ]
    },
    {
      "cell_type": "markdown",
      "id": "23959fd9",
      "metadata": {
        "id": "23959fd9"
      },
      "source": [
        "\n",
        "## Submit\n",
        "\n",
        "- Push **Lab2_...ipynb** to your GitHub repo under the `Labs/` folder.  \n",
        "- Submit the GitHub link on Brightspace before the deadline.\n"
      ]
    }
  ],
  "metadata": {
    "colab": {
      "provenance": [],
      "include_colab_link": true
    },
    "kernelspec": {
      "display_name": "Python 3",
      "language": "python",
      "name": "python3"
    },
    "language_info": {
      "name": "python",
      "version": "3.x"
    }
  },
  "nbformat": 4,
  "nbformat_minor": 5
}