{
  "cells": [
    {
      "cell_type": "markdown",
      "metadata": {
        "id": "view-in-github",
        "colab_type": "text"
      },
      "source": [
        "<a href=\"https://colab.research.google.com/github/brandonmoss124/mgmt467-analytics-portfolio/blob/main/Lab3_Visualization_(1)_READY.ipynb\" target=\"_parent\"><img src=\"https://colab.research.google.com/assets/colab-badge.svg\" alt=\"Open In Colab\"/></a>"
      ]
    },
    {
      "cell_type": "markdown",
      "id": "aacf3fa8",
      "metadata": {
        "id": "aacf3fa8"
      },
      "source": [
        "# Lab 3 – Visualization & Dashboards (Plotly + Looker)"
      ]
    },
    {
      "cell_type": "code",
      "execution_count": null,
      "id": "31b1c109",
      "metadata": {
        "id": "31b1c109"
      },
      "outputs": [],
      "source": [
        "#@title Setup (auth + libs)\n",
        "!pip -q install google-cloud-bigquery pandas pyarrow plotly --upgrade\n",
        "from google.cloud import bigquery\n",
        "from google.colab import auth\n",
        "import pandas as pd, plotly.express as px\n",
        "auth.authenticate_user()\n",
        "PROJECT_ID = \"YOUR_PROJECT_ID_HERE\"  # <-- EDIT\n",
        "bq = bigquery.Client(project=PROJECT_ID)"
      ]
    },
    {
      "cell_type": "markdown",
      "id": "532f5ed4",
      "metadata": {
        "id": "532f5ed4"
      },
      "source": [
        "## Step 1 – Plotly Bubble Chart"
      ]
    },
    {
      "cell_type": "code",
      "execution_count": null,
      "id": "af38edf4",
      "metadata": {
        "id": "af38edf4"
      },
      "outputs": [],
      "source": [
        "prompt = \"\"\"\n",
        "# TASK: Generate Python code using plotly.express.\n",
        "# GOAL: Create an interactive bubble chart to visualize the relationship between profitability, sales, and discounts.\n",
        "# CONTEXT: I have a pandas DataFrame with columns 'Sub_Category', 'Category', 'Sales', 'Profit', 'Discount'.\n",
        "# SPECIFICATIONS:\n",
        "# - The x-axis must be 'Discount'.\n",
        "# - The y-axis must be 'Profit'.\n",
        "# - The size of the bubbles must represent 'Sales'.\n",
        "# - The color of the bubbles must represent the parent 'Category'.\n",
        "# - When a user hovers over a bubble, it must display the 'Sub_Category', 'Sales', 'Profit', and 'Discount' values.\n",
        "# - Include a clear title and axis labels.\n",
        "\"\"\"\n",
        "print(prompt)"
      ]
    },
    {
      "cell_type": "code",
      "execution_count": null,
      "id": "fcf5f1d2",
      "metadata": {
        "id": "fcf5f1d2"
      },
      "outputs": [],
      "source": [
        "# Build DataFrame\n",
        "sql_bubble_df = f\"\"\"\n",
        "SELECT Sub_Category, Category, SUM(Sales) AS Sales, SUM(Profit) AS Profit, AVG(Discount) AS Discount\n",
        "FROM `{PROJECT_ID}.superstore_data.sales`\n",
        "GROUP BY Sub_Category, Category;\n",
        "\"\"\"\n",
        "bubble_df = bq.query(sql_bubble_df).to_dataframe()\n",
        "\n",
        "# Example Plotly code (you can replace with Gemini's)\n",
        "fig = px.scatter(\n",
        "    bubble_df,\n",
        "    x='Discount', y='Profit', size='Sales', color='Category',\n",
        "    hover_data=['Sub_Category','Sales','Profit','Discount'],\n",
        "    title='Profit vs. Discount by Sub-Category (Size = Sales)'\n",
        ")\n",
        "fig.update_layout(xaxis_title='Average Discount', yaxis_title='Total Profit')\n",
        "fig.show()"
      ]
    },
    {
      "cell_type": "markdown",
      "id": "35d04a75",
      "metadata": {
        "id": "35d04a75"
      },
      "source": [
        "**Deliverable:** Write one insight that only interactivity revealed."
      ]
    },
    {
      "cell_type": "markdown",
      "id": "90c23edf",
      "metadata": {
        "id": "90c23edf"
      },
      "source": [
        "## Step 2 – Looker Studio Dashboard\n",
        "Include: Scorecard (total Profit), Pie (Sales % by Region), Bar (Top 5 States by Sales). Paste your public link + a screenshot."
      ]
    },
    {
      "cell_type": "markdown",
      "id": "2e9eb8f9",
      "metadata": {
        "id": "2e9eb8f9"
      },
      "source": [
        "## E – Extend: Strategist Pattern Recommendation"
      ]
    },
    {
      "cell_type": "code",
      "execution_count": null,
      "id": "14a334fc",
      "metadata": {
        "id": "14a334fc"
      },
      "outputs": [],
      "source": [
        "prompt = \"\"\"\n",
        "# TASK: Act as a business strategist.\n",
        "# CONTEXT: An executive is looking at a dashboard that shows [describe a key insight from your Looker dashboard].\n",
        "# GOAL: Based ONLY on this insight, recommend one immediate, specific, and actionable step a Sales Director should take to address this.\n",
        "\"\"\"\n",
        "print(prompt)"
      ]
    },
    {
      "cell_type": "markdown",
      "id": "8197efe6",
      "metadata": {
        "id": "8197efe6"
      },
      "source": [
        "## Challenges – Author Your Own Prompts\n",
        "- Multi-step prompt (SQL + Plotly) to test Office Supplies discount hypothesis.\n",
        "- Explainer Pattern prompt for a non-technical “Tables” profitability explanation."
      ]
    },
    {
      "cell_type": "markdown",
      "id": "7a8eec52",
      "metadata": {
        "id": "7a8eec52"
      },
      "source": [
        "\n",
        "## Reflection (DIVE)\n",
        "\n",
        "- **Discover**: Briefly note the first relevant answer Gemini produced and what it showed.\n",
        "- **Investigate**: Describe another angle or alternate query you explored.\n",
        "- **Validate**: Explain how you checked Gemini's outputs (e.g., sanity counts, comparing against expectations).\n",
        "- **Extend**: Propose a new business question that emerged from your results.\n"
      ]
    },
    {
      "cell_type": "markdown",
      "id": "dc4b1731",
      "metadata": {
        "id": "dc4b1731"
      },
      "source": [
        "### Interactive Bubble Chart Insight\n",
        "- Example: *'Tables had high sales but negative profit when discounts exceeded 30%, which is only visible by hovering.'*"
      ]
    },
    {
      "cell_type": "markdown",
      "id": "218ac74b",
      "metadata": {
        "id": "218ac74b"
      },
      "source": [
        "### Looker Studio Dashboard\n",
        "- Paste your **public link** here.\n",
        "- Insert a **screenshot** of your dashboard here."
      ]
    },
    {
      "cell_type": "markdown",
      "id": "93535d73",
      "metadata": {
        "id": "93535d73"
      },
      "source": [
        "### Strategist Recommendation\n",
        "- Example: *'Since the Central region lags in sales, the Sales Director should immediately increase regional promotions and adjust inventory allocation.'*"
      ]
    },
    {
      "cell_type": "markdown",
      "id": "cb885083",
      "metadata": {
        "id": "cb885083"
      },
      "source": [
        "\n",
        "## Submit\n",
        "\n",
        "- Push **Lab3_...ipynb** to your GitHub repo under the `Labs/` folder.  \n",
        "- Submit the GitHub link on Brightspace before the deadline.\n"
      ]
    }
  ],
  "metadata": {
    "colab": {
      "provenance": [],
      "include_colab_link": true
    },
    "kernelspec": {
      "display_name": "Python 3",
      "language": "python",
      "name": "python3"
    },
    "language_info": {
      "name": "python",
      "version": "3.x"
    }
  },
  "nbformat": 4,
  "nbformat_minor": 5
}